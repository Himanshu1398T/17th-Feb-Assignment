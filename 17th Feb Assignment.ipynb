{
 "cells": [
  {
   "cell_type": "markdown",
   "id": "5c124889",
   "metadata": {},
   "source": [
    "### Q1. What is MongoDB? Explain non-relational databases in short. In which scenarios it is preferred to use MongoDB over SQL databases?"
   ]
  },
  {
   "cell_type": "markdown",
   "id": "4a7678e3",
   "metadata": {},
   "source": [
    "#### Ans:\n",
    "MongoDB is a NoSQL database that is designed to store, manage, and retrieve unstructured and semi-structured data. Unlike traditional relational databases like SQL, MongoDB uses a flexible and dynamic schema that allows for easier and faster development of applications.\n",
    "\n",
    "Non-relational databases, also known as NoSQL databases, are databases that are not based on the traditional tabular relations used in SQL databases. They are designed to handle large amounts of unstructured data, such as documents, graphs, and key-value pairs, which can be difficult to manage in SQL databases.\n",
    "\n",
    "MongoDB is preferred over SQL databases in scenarios where:\n",
    "1. The application needs to store large volumes of unstructured data, such as social media data, log files, or sensor data.\n",
    "2. The application needs to handle complex queries or requires real-time analytics on large datasets.\n",
    "3. The application needs to scale horizontally, i.e., add more servers to the database cluster to increase capacity and  performance.\n",
    "4. The development team is working with agile methodologies that require frequent changes to the data model."
   ]
  },
  {
   "cell_type": "markdown",
   "id": "826d600b",
   "metadata": {},
   "source": [
    "### Q2. State and Explain the features of MongoDB."
   ]
  },
  {
   "cell_type": "markdown",
   "id": "05819229",
   "metadata": {},
   "source": [
    "#### Ans:\n",
    "Features of MongoDB:\n",
    "\n",
    "<p>1. Ad-hoc queries for optimized, real-time analytics:\n",
    "    \n",
    "MongoDB supports ad hoc queries, which means that we can query our data without having to define a schema or a specific query language. This makes it easy to explore our data and find the information needed.</p>\n",
    "\n",
    "<p>2. Indexing appropriately for better query executions:\n",
    "    \n",
    "MongoDB supports a variety of indexing options, including single field indexes, compound indexes, and geospatial indexes. This allows us to optimize our queries and improve performance.</p>\n",
    "\n",
    "<p>3. Replication for better data availability and stability:\n",
    "    \n",
    "MongoDB provides high availability through replica sets, which are groups of database nodes that maintain multiple copies of the same data. If one node fails, another node in the replica set can take over, ensuring that your data is always available.\n",
    "</p>\n",
    "<p>4. Sharding:\n",
    "    \n",
    "When dealing with particularly large datasets, sharding—the process of splitting larger datasets across multiple distributed collections, or “shards”—helps the database distribute and better execute what might otherwise be problematic and cumbersome queries.\n",
    "</p>\n",
    "<p>5. Load balancing:\n",
    "    \n",
    "MongoDB is highly scalable, and can scale horizontally by adding more nodes to a cluster. It also supports sharding, which is a technique for distributing data across multiple nodes in a cluster.</p>|"
   ]
  },
  {
   "cell_type": "markdown",
   "id": "32817189",
   "metadata": {},
   "source": [
    "### Q3. Write a code to connect MongoDB to Python. Also, create a database and a collection in MongoDB."
   ]
  },
  {
   "cell_type": "code",
   "execution_count": 1,
   "id": "694e80ee",
   "metadata": {},
   "outputs": [],
   "source": [
    "import pymongo\n",
    "client = pymongo.MongoClient(\"mongodb+srv://Username:<Password>@cluster0.ckppjbd.mongodb.net/?retryWrites=true&w=majority\")\n",
    "db = client.test"
   ]
  },
  {
   "cell_type": "code",
   "execution_count": 2,
   "id": "ceed33a6",
   "metadata": {},
   "outputs": [],
   "source": [
    "db = client['Data_Science']\n",
    "coll_create = db[\"Topics\"]"
   ]
  },
  {
   "cell_type": "markdown",
   "id": "0cd3949c",
   "metadata": {},
   "source": [
    "### Q4. Using the database and the collection created in question number 3, write a code to insert one record, and insert many records. Use the find() and find_one() methods to print the inserted record."
   ]
  },
  {
   "cell_type": "code",
   "execution_count": 3,
   "id": "033a6b7c",
   "metadata": {},
   "outputs": [
    {
     "data": {
      "text/plain": [
       "<pymongo.results.InsertOneResult at 0x1cda4c71970>"
      ]
     },
     "execution_count": 3,
     "metadata": {},
     "output_type": "execute_result"
    }
   ],
   "source": [
    "data = {\"Subject\" : \"Statistics\",\n",
    "        \"Book\" : \"Practical Statistics\"\n",
    "}\n",
    "coll_create.insert_one(data)"
   ]
  },
  {
   "cell_type": "code",
   "execution_count": 4,
   "id": "4fc9390b",
   "metadata": {},
   "outputs": [
    {
     "data": {
      "text/plain": [
       "<pymongo.results.InsertManyResult at 0x1cda4c4c700>"
      ]
     },
     "execution_count": 4,
     "metadata": {},
     "output_type": "execute_result"
    }
   ],
   "source": [
    "data2 = [{\"Subject\" : \"Python\",\"Book\" : \"Python for data analysis\"},\n",
    "          {\"Subject\" : \"Machine Learning\",\"Book\" : \"Hands-on Machine Learning\"},\n",
    "          {\"Subject\" : \"Deep Learning\",\"Book\" : \"Deep Learning Ian Goodfellow\"}\n",
    "]\n",
    "coll_create.insert_many(data2)"
   ]
  },
  {
   "cell_type": "code",
   "execution_count": 5,
   "id": "e93e2fa1",
   "metadata": {},
   "outputs": [
    {
     "name": "stdout",
     "output_type": "stream",
     "text": [
      "{'_id': ObjectId('640a26aca53217e5d044e8ea'), 'Subject': 'Statistics', 'Book': 'Practical Statistics'}\n",
      "{'_id': ObjectId('640a26ada53217e5d044e8eb'), 'Subject': 'Python', 'Book': 'Python for data analysis'}\n",
      "{'_id': ObjectId('640a26ada53217e5d044e8ec'), 'Subject': 'Machine Learning', 'Book': 'Hands-on Machine Learning'}\n",
      "{'_id': ObjectId('640a26ada53217e5d044e8ed'), 'Subject': 'Deep Learning', 'Book': 'Deep Learning Ian Goodfellow'}\n"
     ]
    }
   ],
   "source": [
    "for i in coll_create.find():\n",
    "    print(i)"
   ]
  },
  {
   "cell_type": "code",
   "execution_count": 6,
   "id": "72060b34",
   "metadata": {},
   "outputs": [
    {
     "data": {
      "text/plain": [
       "{'_id': ObjectId('640a26aca53217e5d044e8ea'),\n",
       " 'Subject': 'Statistics',\n",
       " 'Book': 'Practical Statistics'}"
      ]
     },
     "execution_count": 6,
     "metadata": {},
     "output_type": "execute_result"
    }
   ],
   "source": [
    "coll_create.find_one()"
   ]
  },
  {
   "cell_type": "markdown",
   "id": "32828447",
   "metadata": {},
   "source": [
    "### Q5. Explain how you can use the find() method to query the MongoDB database. Write a simple code to demonstrate this."
   ]
  },
  {
   "cell_type": "markdown",
   "id": "ac334d7d",
   "metadata": {},
   "source": [
    "The find() method in MongoDB is used to retrieve documents from a collection. It takes an optional query object that can be used to filter the results. The query object specifies the criteria that must be met for a document to be included in the results.\n",
    "\n",
    "The query object is typically constructed using a dictionary where the keys represent the document fields to match, and the values represent the matching criteria. MongoDB supports a wide range of query operators, such as \\\\$eq, \\\\$gt, \\\\$lt, \\\\$in, \\\\$or, \\\\$and, \\\\$regex, and many more."
   ]
  },
  {
   "cell_type": "code",
   "execution_count": 7,
   "id": "eca8e917",
   "metadata": {},
   "outputs": [
    {
     "name": "stdout",
     "output_type": "stream",
     "text": [
      "{'_id': ObjectId('640a26ada53217e5d044e8eb'), 'Subject': 'Python', 'Book': 'Python for data analysis'}\n"
     ]
    }
   ],
   "source": [
    "for i in coll_create.find({'Subject' : 'Python'}):\n",
    "    print(i)"
   ]
  },
  {
   "cell_type": "markdown",
   "id": "b7a6f751",
   "metadata": {},
   "source": [
    "### Q6. Explain the sort() method. Give an example to demonstrate sorting in MongoDB."
   ]
  },
  {
   "cell_type": "markdown",
   "id": "8edb9797",
   "metadata": {},
   "source": [
    "The sort() method is used to sort the documents in a MongoDB collection based on one or more fields. It takes an optional argument that specifies the sort order, which can be ascending or descending.\n",
    "\n",
    "The sort order can be specified using the pymongo.ASCENDING or pymongo.DESCENDING constants, or by using the integer values 1 or -1, where 1 represents ascending order and -1 represents descending order."
   ]
  },
  {
   "cell_type": "code",
   "execution_count": 8,
   "id": "c24e1ab8",
   "metadata": {},
   "outputs": [],
   "source": [
    "mydocs = coll_create.find().sort(\"Subject\",pymongo.ASCENDING)"
   ]
  },
  {
   "cell_type": "code",
   "execution_count": 9,
   "id": "035458f1",
   "metadata": {},
   "outputs": [
    {
     "name": "stdout",
     "output_type": "stream",
     "text": [
      "{'_id': ObjectId('640a26ada53217e5d044e8ed'), 'Subject': 'Deep Learning', 'Book': 'Deep Learning Ian Goodfellow'}\n",
      "{'_id': ObjectId('640a26ada53217e5d044e8ec'), 'Subject': 'Machine Learning', 'Book': 'Hands-on Machine Learning'}\n",
      "{'_id': ObjectId('640a26ada53217e5d044e8eb'), 'Subject': 'Python', 'Book': 'Python for data analysis'}\n",
      "{'_id': ObjectId('640a26aca53217e5d044e8ea'), 'Subject': 'Statistics', 'Book': 'Practical Statistics'}\n"
     ]
    }
   ],
   "source": [
    "for i in mydocs:\n",
    "    print(i)"
   ]
  },
  {
   "cell_type": "code",
   "execution_count": 10,
   "id": "455d85df",
   "metadata": {},
   "outputs": [
    {
     "name": "stdout",
     "output_type": "stream",
     "text": [
      "{'_id': ObjectId('640a26aca53217e5d044e8ea'), 'Subject': 'Statistics', 'Book': 'Practical Statistics'}\n",
      "{'_id': ObjectId('640a26ada53217e5d044e8eb'), 'Subject': 'Python', 'Book': 'Python for data analysis'}\n",
      "{'_id': ObjectId('640a26ada53217e5d044e8ec'), 'Subject': 'Machine Learning', 'Book': 'Hands-on Machine Learning'}\n",
      "{'_id': ObjectId('640a26ada53217e5d044e8ed'), 'Subject': 'Deep Learning', 'Book': 'Deep Learning Ian Goodfellow'}\n"
     ]
    }
   ],
   "source": [
    "mydocs1 = coll_create.find().sort(\"Subject\",-1)\n",
    "for i in mydocs1:\n",
    "    print(i)"
   ]
  },
  {
   "cell_type": "markdown",
   "id": "5debfff0",
   "metadata": {},
   "source": [
    "### Q7. Explain why delete_one(), delete_many(), and drop() is used."
   ]
  },
  {
   "cell_type": "markdown",
   "id": "c19cecd5",
   "metadata": {},
   "source": [
    "We use delete_one() and delete_many() methods to remove documents from a collection based on a specified filter. The drop() method is used to delete an entire collection from a database.\n",
    "\n",
    "For example:\n",
    "delete_one(filter) - Deletes a single document from a collection that matches the specified filter. If multiple documents match the filter, only the first one will be deleted.\n",
    "\n",
    "delete_many(filter) - Deletes all documents from a collection that match the specified filter.\n",
    "\n",
    "drop() - Deletes an entire collection from a database. This method is useful when you want to completely remove a collection and all of its associated documents."
   ]
  },
  {
   "cell_type": "code",
   "execution_count": 11,
   "id": "75e68fd5",
   "metadata": {},
   "outputs": [],
   "source": [
    "result = coll_create.delete_one(data)"
   ]
  },
  {
   "cell_type": "code",
   "execution_count": 12,
   "id": "b10d2fc7",
   "metadata": {},
   "outputs": [
    {
     "name": "stdout",
     "output_type": "stream",
     "text": [
      "{'_id': ObjectId('640a26ada53217e5d044e8eb'), 'Subject': 'Python', 'Book': 'Python for data analysis'}\n",
      "{'_id': ObjectId('640a26ada53217e5d044e8ec'), 'Subject': 'Machine Learning', 'Book': 'Hands-on Machine Learning'}\n",
      "{'_id': ObjectId('640a26ada53217e5d044e8ed'), 'Subject': 'Deep Learning', 'Book': 'Deep Learning Ian Goodfellow'}\n"
     ]
    }
   ],
   "source": [
    "for i in coll_create.find():\n",
    "    print(i)"
   ]
  },
  {
   "cell_type": "code",
   "execution_count": 13,
   "id": "0c322700",
   "metadata": {},
   "outputs": [],
   "source": [
    "coll_create.drop()"
   ]
  },
  {
   "cell_type": "code",
   "execution_count": 14,
   "id": "7571ac03",
   "metadata": {},
   "outputs": [],
   "source": [
    "for i in coll_create.find():\n",
    "    print(i)"
   ]
  }
 ],
 "metadata": {
  "kernelspec": {
   "display_name": "Python 3 (ipykernel)",
   "language": "python",
   "name": "python3"
  },
  "language_info": {
   "codemirror_mode": {
    "name": "ipython",
    "version": 3
   },
   "file_extension": ".py",
   "mimetype": "text/x-python",
   "name": "python",
   "nbconvert_exporter": "python",
   "pygments_lexer": "ipython3",
   "version": "3.9.13"
  }
 },
 "nbformat": 4,
 "nbformat_minor": 5
}
